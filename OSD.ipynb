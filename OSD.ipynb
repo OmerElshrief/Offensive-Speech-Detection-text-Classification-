{
  "nbformat": 4,
  "nbformat_minor": 0,
  "metadata": {
    "colab": {
      "name": "Untitled5.ipynb",
      "version": "0.3.2",
      "provenance": [],
      "collapsed_sections": [
        "yTdcjtuSHpjC",
        "Y4uhr9O8E1xC",
        "nYwtfwTNFLe8",
        "JHZbZ-vDFP6v",
        "cFMNCNyLGZAy"
      ],
      "include_colab_link": true
    },
    "kernelspec": {
      "name": "python3",
      "display_name": "Python 3"
    },
    "accelerator": "GPU"
  },
  "cells": [
    {
      "cell_type": "markdown",
      "metadata": {
        "id": "view-in-github",
        "colab_type": "text"
      },
      "source": [
        "<a href=\"https://colab.research.google.com/github/OmerElshrief/Offensive-Speech-Detection-text-Classification-/blob/master/OSD.ipynb\" target=\"_parent\"><img src=\"https://colab.research.google.com/assets/colab-badge.svg\" alt=\"Open In Colab\"/></a>"
      ]
    },
    {
      "metadata": {
        "id": "yTdcjtuSHpjC",
        "colab_type": "text"
      },
      "cell_type": "markdown",
      "source": [
        "## Importing"
      ]
    },
    {
      "metadata": {
        "id": "wtJWBITM-lMj",
        "colab_type": "code",
        "colab": {}
      },
      "cell_type": "code",
      "source": [
        "\n",
        "from html.parser import HTMLParser\n",
        "import pandas as pd\n",
        "import numpy as np\n",
        "import matplotlib.pyplot as plt\n",
        "import nltk\n",
        "import string\n",
        "import csv\n",
        "import re\n",
        "import itertools\n",
        "from sklearn.model_selection import train_test_split, RandomizedSearchCV, cross_validate, validation_curve\n",
        "from sklearn.ensemble import VotingClassifier,RandomForestClassifier\n",
        "from sklearn.feature_extraction.text import TfidfVectorizer, CountVectorizer, TfidfTransformer\n",
        "from sklearn import model_selection, preprocessing, linear_model, naive_bayes, metrics, svm, decomposition, ensemble\n",
        "from sklearn.naive_bayes import MultinomialNB\n",
        "from sklearn.pipeline import Pipeline\n",
        "from sklearn.neighbors import KNeighborsClassifier\n",
        "from mlxtend.classifier import EnsembleVoteClassifier\n",
        "from sklearn.metrics import classification_report, confusion_matrix, accuracy_score, roc_curve, precision_recall_curve\n",
        "\n"
      ],
      "execution_count": 0,
      "outputs": []
    },
    {
      "metadata": {
        "id": "Js1U1m6FEmvE",
        "colab_type": "text"
      },
      "cell_type": "markdown",
      "source": [
        "## Phase 1 - Data PreProcessing and cleaning"
      ]
    },
    {
      "metadata": {
        "id": "Y4uhr9O8E1xC",
        "colab_type": "text"
      },
      "cell_type": "markdown",
      "source": [
        "#### Downloading NLTK Stopwords & treebank"
      ]
    },
    {
      "metadata": {
        "id": "lIDt0CECCGgP",
        "colab_type": "code",
        "colab": {
          "base_uri": "https://localhost:8080/",
          "height": 136
        },
        "outputId": "20edaaa1-8bb6-4a98-daa9-37dfd78c596b"
      },
      "cell_type": "code",
      "source": [
        "nltk.download('stopwords')\n",
        "nltk.download('treebank')\n",
        "nltk.download('wordnet')"
      ],
      "execution_count": 19,
      "outputs": [
        {
          "output_type": "stream",
          "text": [
            "[nltk_data] Downloading package stopwords to /root/nltk_data...\n",
            "[nltk_data]   Package stopwords is already up-to-date!\n",
            "[nltk_data] Downloading package treebank to /root/nltk_data...\n",
            "[nltk_data]   Package treebank is already up-to-date!\n",
            "[nltk_data] Downloading package wordnet to /root/nltk_data...\n",
            "[nltk_data]   Unzipping corpora/wordnet.zip.\n"
          ],
          "name": "stdout"
        },
        {
          "output_type": "execute_result",
          "data": {
            "text/plain": [
              "True"
            ]
          },
          "metadata": {
            "tags": []
          },
          "execution_count": 19
        }
      ]
    },
    {
      "metadata": {
        "id": "ifz8HGYSEtlw",
        "colab_type": "code",
        "colab": {}
      },
      "cell_type": "code",
      "source": [
        "wpt = nltk.WordPunctTokenizer()\n",
        "stopWords = nltk.corpus.stopwords.words('english')\n",
        "stemmer = nltk.stem.PorterStemmer()\n",
        "lemmatizer = nltk.stem.WordNetLemmatizer()\n",
        "part_of_speech_taggin = nltk.pos_tag\n",
        "tagged_sentences = nltk.corpus.treebank.tagged_sents()"
      ],
      "execution_count": 0,
      "outputs": []
    },
    {
      "metadata": {
        "id": "nYwtfwTNFLe8",
        "colab_type": "text"
      },
      "cell_type": "markdown",
      "source": [
        "#### For the contraction Expanding"
      ]
    },
    {
      "metadata": {
        "id": "XraOe-cTE7H9",
        "colab_type": "code",
        "colab": {}
      },
      "cell_type": "code",
      "source": [
        "contractions = {\n",
        "    \"ain't\": \"am not / are not / is not / has not / have not\",\n",
        "    \"aren't\": \"are not / am not\",\n",
        "    \"can't\": \"cannot\",\n",
        "    \"can't've\": \"cannot have\",\n",
        "    \"'cause\": \"because\",\n",
        "    \"could've\": \"could have\",\n",
        "    \"couldn't\": \"could not\",\n",
        "    \"couldn't've\": \"could not have\",\n",
        "    \"didn't\": \"did not\",\n",
        "    \"doesn't\": \"does not\",\n",
        "    \"don't\": \"do not\",\n",
        "    \"hadn't\": \"had not\",\n",
        "    \"hadn't've\": \"had not have\",\n",
        "    \"hasn't\": \"has not\",\n",
        "    \"haven't\": \"have not\",\n",
        "    \"he'd\": \"he had / he would\",\n",
        "    \"he'd've\": \"he would have\",\n",
        "    \"he'll\": \"he shall / he will\",\n",
        "    \"he'll've\": \"he shall have / he will have\",\n",
        "    \"he's\": \"he has / he is\",\n",
        "    \"how'd\": \"how did\",\n",
        "    \"how'd'y\": \"how do you\",\n",
        "    \"how'll\": \"how will\",\n",
        "    \"how's\": \"how has / how is / how does\",\n",
        "    \"I'd\": \"I had / I would\",\n",
        "    \"I'd've\": \"I would have\",\n",
        "    \"I'll\": \"I shall / I will\",\n",
        "    \"I'll've\": \"I shall have / I will have\",\n",
        "    \"I'm\": \"I am\",\n",
        "    \"I've\": \"I have\",\n",
        "    \"isn't\": \"is not\",\n",
        "    \"it'd\": \"it had / it would\",\n",
        "    \"it'd've\": \"it would have\",\n",
        "    \"it'll\": \"it shall / it will\",\n",
        "    \"it'll've\": \"it shall have / it will have\",\n",
        "    \"it's\": \"it has / it is\",\n",
        "    \"let's\": \"let us\",\n",
        "    \"ma'am\": \"madam\",\n",
        "    \"mayn't\": \"may not\",\n",
        "    \"might've\": \"might have\",\n",
        "    \"mightn't\": \"might not\",\n",
        "    \"mightn't've\": \"might not have\",\n",
        "    \"must've\": \"must have\",\n",
        "    \"mustn't\": \"must not\",\n",
        "    \"mustn't've\": \"must not have\",\n",
        "    \"needn't\": \"need not\",\n",
        "    \"needn't've\": \"need not have\",\n",
        "    \"o'clock\": \"of the clock\",\n",
        "    \"oughtn't\": \"ought not\",\n",
        "    \"oughtn't've\": \"ought not have\",\n",
        "    \"shan't\": \"shall not\",\n",
        "    \"sha'n't\": \"shall not\",\n",
        "    \"shan't've\": \"shall not have\",\n",
        "    \"she'd\": \"she had / she would\",\n",
        "    \"she'd've\": \"she would have\",\n",
        "    \"she'll\": \"she shall / she will\",\n",
        "    \"she'll've\": \"she shall have / she will have\",\n",
        "    \"she's\": \"she has / she is\",\n",
        "    \"should've\": \"should have\",\n",
        "    \"shouldn't\": \"should not\",\n",
        "    \"shouldn't've\": \"should not have\",\n",
        "    \"so've\": \"so have\",\n",
        "    \"so's\": \"so as / so is\",\n",
        "    \"that'd\": \"that would / that had\",\n",
        "    \"that'd've\": \"that would have\",\n",
        "    \"that's\": \"that has / that is\",\n",
        "    \"there'd\": \"there had / there would\",\n",
        "    \"there'd've\": \"there would have\",\n",
        "    \"there's\": \"there has / there is\",\n",
        "    \"they'd\": \"they had / they would\",\n",
        "    \"they'd've\": \"they would have\",\n",
        "    \"they'll\": \"they shall / they will\",\n",
        "    \"they'll've\": \"they shall have / they will have\",\n",
        "    \"they're\": \"they are\",\n",
        "    \"they've\": \"they have\",\n",
        "    \"to've\": \"to have\",\n",
        "    \"wasn't\": \"was not\",\n",
        "    \"we'd\": \"we had / we would\",\n",
        "    \"we'd've\": \"we would have\",\n",
        "    \"we'll\": \"we will\",\n",
        "    \"we'll've\": \"we will have\",\n",
        "    \"we're\": \"we are\",\n",
        "    \"we've\": \"we have\",\n",
        "    \"weren't\": \"were not\",\n",
        "    \"what'll\": \"what shall / what will\",\n",
        "    \"what'll've\": \"what shall have / what will have\",\n",
        "    \"what're\": \"what are\",\n",
        "    \"what's\": \"what has / what is\",\n",
        "    \"what've\": \"what have\",\n",
        "    \"when's\": \"when has / when is\",\n",
        "    \"when've\": \"when have\",\n",
        "    \"where'd\": \"where did\",\n",
        "    \"where's\": \"where has / where is\",\n",
        "    \"where've\": \"where have\",\n",
        "    \"who'll\": \"who shall / who will\",\n",
        "    \"who'll've\": \"who shall have / who will have\",\n",
        "    \"who's\": \"who has / who is\",\n",
        "    \"who've\": \"who have\",\n",
        "    \"why's\": \"why has / why is\",\n",
        "    \"why've\": \"why have\",\n",
        "    \"will've\": \"will have\",\n",
        "    \"won't\": \"will not\",\n",
        "    \"won't've\": \"will not have\",\n",
        "    \"would've\": \"would have\",\n",
        "    \"wouldn't\": \"would not\",\n",
        "    \"wouldn't've\": \"would not have\",\n",
        "    \"y'all\": \"you all\",\n",
        "    \"y'all'd\": \"you all would\",\n",
        "    \"y'all'd've\": \"you all would have\",\n",
        "    \"y'all're\": \"you all are\",\n",
        "    \"y'all've\": \"you all have\",\n",
        "    \"you'd\": \"you had / you would\",\n",
        "    \"you'd've\": \"you would have\",\n",
        "    \"you'll\": \"you shall / you will\",\n",
        "    \"you'll've\": \"you shall have / you will have\",\n",
        "    \"you're\": \"you are\",\n",
        "    \"you've\": \"you have\"\n",
        "}\n",
        "\n",
        "contractions_re = re.compile('(%s)' % '|'.join(contractions.keys()))\n",
        "\n",
        "\n",
        "def expand_contractions(s, contractions_dict=contractions):\n",
        "    def replace(match):\n",
        "        return contractions_dict[match.group(0)]\n",
        "    return contractions_re.sub(replace, s)\n"
      ],
      "execution_count": 0,
      "outputs": []
    },
    {
      "metadata": {
        "id": "SPWIIbQcFJ3-",
        "colab_type": "code",
        "colab": {}
      },
      "cell_type": "code",
      "source": [
        ""
      ],
      "execution_count": 0,
      "outputs": []
    },
    {
      "metadata": {
        "id": "JHZbZ-vDFP6v",
        "colab_type": "text"
      },
      "cell_type": "markdown",
      "source": [
        "#### Function for document Filter"
      ]
    },
    {
      "metadata": {
        "id": "bwbKsH0TFgag",
        "colab_type": "code",
        "colab": {}
      },
      "cell_type": "code",
      "source": [
        "def document_filter_tagging(doc):\n",
        "    ## Remove HTML Characters\n",
        "    html_parser = HTMLParser()\n",
        "    doc = html_parser.unescape(doc)\n",
        "    ## Decode the Data (keep all the data in UTF-8 encoded characters\n",
        "    #doc = doc.encode.(\"utf8\").encode('ascii','ignore')\n",
        "    ## Remove Emoji if exist using Regular Expressions\n",
        "    emoji_pattern = re.compile(\n",
        "        u\"(\\ud83d[\\ude00-\\ude4f])|\"  # emoticons\n",
        "        u\"(\\ud83c[\\udf00-\\uffff])|\"  # symbols & pictographs (1 of 2)\n",
        "        u\"(\\ud83d[\\u0000-\\uddff])|\"  # symbols & pictographs (2 of 2)\n",
        "        u\"(\\ud83d[\\ude80-\\udeff])|\"  # transport & map symbols\n",
        "        u\"(\\ud83c[\\udde0-\\uddff])\"   # flags (iOS)\n",
        "        \"+\", flags=re.UNICODE)\n",
        "    emoji_pattern.sub(r'', doc)\n",
        "    \n",
        "    ## Split attached words like \"Fu*kYou\"\n",
        "    #doc = ' '.join(re.findall('[A-Z][^A-Z]+', doc))\n",
        "    ## Standardizing Words \"like FUUUUUUUU*K => FU*K\"\n",
        "    doc = ''.join(''.join(s)[:2] for _, s in itertools.groupby(doc))\n",
        "    ## Lower canse\n",
        "    doc = doc.lower()\n",
        "    ## Expand contraction \"isn't => is not\"\n",
        "    doc = expand_contractions(doc)\n",
        "    ## Transform Slang Words NOT YET :( :(\n",
        "    ## remove special characters\\whitespaces\n",
        "    doc = re.sub(r'[^a-zA-Z\\s]', '', doc, re.I | re.A)\n",
        "    doc = doc.strip()  # NO leading or tailing white spaces\n",
        "    \n",
        "    # tokenize document\n",
        "    tokens = wpt.tokenize(doc)\n",
        "   \n",
        "  # Tagging each Token with POS\n",
        "    text = tokens\n",
        "    text_tagged = nltk.pos_tag(text)\n",
        "    new_text = []\n",
        "    for word in text_tagged:\n",
        "        new_text.append(word[0] + \"/\" + word[1])\n",
        "    ## filter stopwords out of document\n",
        "    filtered_tokens=[]\n",
        "    for token in new_text:\n",
        "        if token.split('/')[0] not in stopWords:\n",
        "            filtered_tokens.append(token)\n",
        "\n",
        "    doc = ' '.join(filtered_tokens)\n",
        "    \n",
        "   \n",
        "    # Remove punctuactions\n",
        "    # This will remove every punctuation in the Document\n",
        "    doc.translate(string.punctuation)\n",
        "    return doc"
      ],
      "execution_count": 0,
      "outputs": []
    },
    {
      "metadata": {
        "id": "2LbIoTsqFsCb",
        "colab_type": "code",
        "colab": {}
      },
      "cell_type": "code",
      "source": [
        "def document_filter(doc):\n",
        "    ## Remove HTML Characters\n",
        "    html_parser = HTMLParser()\n",
        "    doc = html_parser.unescape(doc)\n",
        "    ## Decode the Data (keep all the data in UTF-8 encoded characters\n",
        "    #doc = doc.encode.(\"utf8\").encode('ascii','ignore')\n",
        "    ## Remove Emoji if exist using Regular Expressions\n",
        "    emoji_pattern = re.compile(\n",
        "        u\"(\\ud83d[\\ude00-\\ude4f])|\"  # emoticons\n",
        "        u\"(\\ud83c[\\udf00-\\uffff])|\"  # symbols & pictographs (1 of 2)\n",
        "        u\"(\\ud83d[\\u0000-\\uddff])|\"  # symbols & pictographs (2 of 2)\n",
        "        u\"(\\ud83d[\\ude80-\\udeff])|\"  # transport & map symbols\n",
        "        u\"(\\ud83c[\\udde0-\\uddff])\"   # flags (iOS)\n",
        "        \"+\", flags=re.UNICODE)\n",
        "    emoji_pattern.sub(r'', doc)\n",
        "    \n",
        "    ## Split attached words like \"Fu*kYou\"\n",
        "    #doc = ' '.join(re.findall('[A-Z][^A-Z]+', doc))\n",
        "    ## Standardizing Words \"like FUUUUUUUU*K => FU*K\"\n",
        "    doc = ''.join(''.join(s)[:2] for _, s in itertools.groupby(doc))\n",
        "    ## Lower canse\n",
        "    doc = doc.lower()\n",
        "    ## Expand contraction \"isn't => is not\"\n",
        "    doc = expand_contractions(doc)\n",
        "    ## Transform Slang Words NOT YET :( :(\n",
        "    ## remove special characters\\whitespaces\n",
        "    doc = re.sub(r'[^a-zA-Z\\s]', '', doc, re.I | re.A)\n",
        "    doc = doc.strip()  # NO leading or tailing white spaces\n",
        "    \n",
        "    # tokenize document\n",
        "    tokens = wpt.tokenize(doc)\n",
        "   \n",
        "   ## filter stopwords out of document\n",
        "    filtered_tokens = [token for token in tokens if token not in stopWords]\n",
        "  \n",
        "    # Stemming the Document using NLTK\n",
        "    stemmed_tokens = []\n",
        "    for token in filtered_tokens:\n",
        "        stemmed_tokens.append(stemmer.stem(token))\n",
        "    doc = ' '.join(stemmed_tokens)\n",
        "    # Lemmatization with NLTK\n",
        "    lemmatized_tokens = []\n",
        "    for token in stemmed_tokens:\n",
        "        lemmatized_tokens.append(lemmatizer.lemmatize(token))\n",
        "    doc = ' '.join(filtered_tokens)\n",
        "    \n",
        "   \n",
        "    # Remove punctuactions\n",
        "    # This will remove every punctuation in the Document\n",
        "    doc.translate(string.punctuation)\n",
        "    return doc"
      ],
      "execution_count": 0,
      "outputs": []
    },
    {
      "metadata": {
        "id": "cFMNCNyLGZAy",
        "colab_type": "text"
      },
      "cell_type": "markdown",
      "source": [
        "### Improting the DataSet"
      ]
    },
    {
      "metadata": {
        "id": "pfvBNMY7GE00",
        "colab_type": "code",
        "colab": {
          "base_uri": "https://localhost:8080/",
          "height": 34
        },
        "outputId": "6aebde96-d626-40fe-d2a4-86dcdc9204fc"
      },
      "cell_type": "code",
      "source": [
        "location = 'DataSet.csv'\n",
        "\n",
        "#header = 0 => let the Columns names be the first line of the DATASET\n",
        "data = pd.read_csv(location, header=0,sep = ' ')\n",
        "\n",
        "print(\"Loaded\")\n",
        "filterd_tweets = data['tweet']\n",
        "labels = data['label']\n"
      ],
      "execution_count": 17,
      "outputs": [
        {
          "output_type": "stream",
          "text": [
            "Loaded\n"
          ],
          "name": "stdout"
        }
      ]
    },
    {
      "metadata": {
        "id": "l6-dMoXLGvha",
        "colab_type": "text"
      },
      "cell_type": "markdown",
      "source": [
        "#### Data Preprocessing and Cleaning"
      ]
    },
    {
      "metadata": {
        "id": "n4Bfl9hjGgoV",
        "colab_type": "code",
        "colab": {
          "base_uri": "https://localhost:8080/",
          "height": 71
        },
        "outputId": "576ef361-2dae-4ea4-dae4-d5dd74c2926f"
      },
      "cell_type": "code",
      "source": [
        "filter_data = np.vectorize(document_filter)\n",
        "filterd_tweets = filter_data(filterd_tweets)"
      ],
      "execution_count": 20,
      "outputs": [
        {
          "output_type": "stream",
          "text": [
            "/usr/local/lib/python3.6/dist-packages/ipykernel_launcher.py:4: DeprecationWarning: The unescape method is deprecated and will be removed in 3.5, use html.unescape() instead.\n",
            "  after removing the cwd from sys.path.\n"
          ],
          "name": "stderr"
        }
      ]
    },
    {
      "metadata": {
        "id": "LPfdKTPTHNDi",
        "colab_type": "text"
      },
      "cell_type": "markdown",
      "source": [
        "#### For the Tagged vectors"
      ]
    },
    {
      "metadata": {
        "id": "5GCaxDq9Gz_U",
        "colab_type": "code",
        "colab": {}
      },
      "cell_type": "code",
      "source": [
        "filter_data = np.vectorize(document_filter_tagged)\n",
        "filterd_tweets = filter_data(filterd_tweets)"
      ],
      "execution_count": 0,
      "outputs": []
    },
    {
      "metadata": {
        "id": "y9sS0CRMHRbL",
        "colab_type": "code",
        "colab": {}
      },
      "cell_type": "code",
      "source": [
        "## Converting data_Y to binary\n",
        "data_y = []\n",
        "for label in labels:\n",
        "    if label =='OFF':\n",
        "        data_y.append(1)\n",
        "    else:\n",
        "        data_y.append(0)"
      ],
      "execution_count": 0,
      "outputs": []
    },
    {
      "metadata": {
        "id": "SDXDKmp0HbJ5",
        "colab_type": "text"
      },
      "cell_type": "markdown",
      "source": [
        "### Writing the Data into a CSV File "
      ]
    },
    {
      "metadata": {
        "id": "yQXiI0nCHXYr",
        "colab_type": "code",
        "colab": {}
      },
      "cell_type": "code",
      "source": [
        "data_frame = pd.DataFrame({'tweet': filterd_tweets, 'label': labels})\n",
        "print(data_frame)\n",
        "data_frame.to_csv('NormalizedData.csv',sep = ' ')\n",
        "print(\"Done\")"
      ],
      "execution_count": 0,
      "outputs": []
    },
    {
      "metadata": {
        "id": "jRMv3rPXH2hG",
        "colab_type": "text"
      },
      "cell_type": "markdown",
      "source": [
        "## Phas2 : Vectorization"
      ]
    },
    {
      "metadata": {
        "id": "dVCFQBbaIL0E",
        "colab_type": "text"
      },
      "cell_type": "markdown",
      "source": [
        "#### Function for generating feature vectors "
      ]
    },
    {
      "metadata": {
        "id": "DHjwIdgoHf_d",
        "colab_type": "code",
        "colab": {}
      },
      "cell_type": "code",
      "source": [
        "def cv_Vectorization(data, range=(1, 2)):\n",
        "\n",
        "    WoB_vect = CountVectorizer(analyzer='word', token_pattern=r'\\w{1,}', ngram_range=range, max_features=10000)\n",
        "    cv = WoB_vect.fit_transform(data.values.astype('U')).toarray()\n",
        "\n",
        "\n",
        "    return cv, cv_valid\n",
        "\n",
        "# TF_IDF vectorizer based on 2-grams words\n",
        "\n",
        "\n",
        "def tfdif_vectorization(data_train, range=(2, 3)):\n",
        "\n",
        "    \n",
        "    tfdif_vectorizer = TfidfVectorizer(analyzer='word', ngram_range=range, max_features=10000, min_df=0, max_df=1)\n",
        "    tfdif_train_x = tfdif_vectorizer.fit_transform(data_train.values.astype('U'))\n",
        "    \n",
        "    \n",
        "\n",
        "    return tfdif_train_x\n",
        "\n",
        "\n",
        "def bow_tfidf_vectorization(data_train, range=(2, 3)):\n",
        "    WoB_vect = CountVectorizer(\n",
        "        analyzer='word', token_pattern=r'\\w{1,}', ngram_range=range, max_features=5000)\n",
        "    cv = WoB_vect.fit_transform(data_train.values.astype('U'))\n",
        "    #cv_valid = WoB_vect.fit_transform(data_validation.values.astype('U'))\n",
        "\n",
        "    tfdif_transformer = TfidfTransformer()\n",
        "    tfdif_train_x = tfdif_transformer.fit_transform(cv)\n",
        "    #tfdif_validation_x = tfdif_transformer.fit_transform(cv_valid)\n",
        "\n",
        "    return tfdif_train_x\n",
        "\n",
        "\n"
      ],
      "execution_count": 0,
      "outputs": []
    },
    {
      "metadata": {
        "id": "c7iG3zgIIpRo",
        "colab_type": "text"
      },
      "cell_type": "markdown",
      "source": [
        "#### Function for Model Training"
      ]
    },
    {
      "metadata": {
        "id": "GdvWmAenHz92",
        "colab_type": "code",
        "colab": {}
      },
      "cell_type": "code",
      "source": [
        "## Model Training...\n",
        "def train_model(classifier, feature_vector_train, label, feature_vector_valid, valid_y, is_neural_net=False):\n",
        "    # fit the training dataset on the classifier\n",
        "    classifier.fit(feature_vector_train, label)\n",
        "\n",
        "    # predict the labels on validation dataset\n",
        "    predictions = classifier.predict(feature_vector_valid)\n",
        "\n",
        "    if is_neural_net:\n",
        "        predictions = predictions.argmax(axis=-1)\n",
        "\n",
        "    return np.mean(predictions == valid_y)"
      ],
      "execution_count": 0,
      "outputs": []
    },
    {
      "metadata": {
        "id": "Fr6HjZuWI37V",
        "colab_type": "text"
      },
      "cell_type": "markdown",
      "source": [
        "#### Normalized Data loading"
      ]
    },
    {
      "metadata": {
        "id": "Vl30j2waIrz2",
        "colab_type": "code",
        "colab": {}
      },
      "cell_type": "code",
      "source": [
        "location = r'NormalizedData.csv'\n",
        "##pd.read_table:\n",
        "#header = 0 => let the Columns names be the first line of the DATASET\n",
        "data = pd.read_csv(location, header=0, sep=' ', error_bad_lines=False)\n",
        "filterd_tweets = data['tweet']\n",
        "labels = data['label']"
      ],
      "execution_count": 0,
      "outputs": []
    },
    {
      "metadata": {
        "id": "7Cpvb9iMJDGz",
        "colab_type": "text"
      },
      "cell_type": "markdown",
      "source": [
        "#### Splitting the data into testing and validation"
      ]
    },
    {
      "metadata": {
        "id": "nnf6tc42I7hB",
        "colab_type": "code",
        "colab": {}
      },
      "cell_type": "code",
      "source": [
        "\n",
        "## Split data into Training_data 90% and Validation data 10%\n",
        "train_x, valid_x, train_y, valid_y = model_selection.train_test_split(filterd_tweets, labels, test_size=0.1, random_state=42)\n"
      ],
      "execution_count": 0,
      "outputs": []
    },
    {
      "metadata": {
        "id": "9u-4O0VJJRHK",
        "colab_type": "text"
      },
      "cell_type": "markdown",
      "source": [
        "#### Building feature vectors "
      ]
    },
    {
      "metadata": {
        "id": "lcpAeHbwJFZt",
        "colab_type": "code",
        "colab": {
          "base_uri": "https://localhost:8080/",
          "height": 350
        },
        "outputId": "c7e34fdb-cbd4-4864-bac7-5e80ac56da9c"
      },
      "cell_type": "code",
      "source": [
        "train_x_tfdif_1grams = tfdif_vectorization(filterd_tweets, range=(1, 3))\n",
        "train_x_tfdif_1grams = bow_tfidf_vectorization(filterd_tweets,(1,1))\n",
        "talid_x_tfdif_1grams = bow_tfidf_vectorization(filterd_tweets, (1, 1))\n",
        "train_x_tfdif_2grams = tfdif_vectorization(filterd_tweets, range=(1, 2))\n",
        "train_x_tfdif_3grams = tfdif_vectorization(filterd_tweets, range=(2, 3))\n",
        "train_x_cv_1grams    = cv_Vectorization(filterd_tweets, range=(1, 2))\n",
        "train_x_cv_2grams    = cv_Vectorization(filterd_tweets, range=(2, 3))\n",
        "train_x_cv_3grams    = cv_Vectorization(filterd_tweets, range=(1, 3))"
      ],
      "execution_count": 34,
      "outputs": [
        {
          "output_type": "error",
          "ename": "NameError",
          "evalue": "ignored",
          "traceback": [
            "\u001b[0;31m---------------------------------------------------------------------------\u001b[0m",
            "\u001b[0;31mNameError\u001b[0m                                 Traceback (most recent call last)",
            "\u001b[0;32m<ipython-input-34-18d064d5fa7d>\u001b[0m in \u001b[0;36m<module>\u001b[0;34m()\u001b[0m\n\u001b[1;32m      4\u001b[0m \u001b[0mtrain_x_tfdif_2grams\u001b[0m \u001b[0;34m=\u001b[0m \u001b[0mtfdif_vectorization\u001b[0m\u001b[0;34m(\u001b[0m\u001b[0mfilterd_tweets\u001b[0m\u001b[0;34m,\u001b[0m \u001b[0mrange\u001b[0m\u001b[0;34m=\u001b[0m\u001b[0;34m(\u001b[0m\u001b[0;36m1\u001b[0m\u001b[0;34m,\u001b[0m \u001b[0;36m2\u001b[0m\u001b[0;34m)\u001b[0m\u001b[0;34m)\u001b[0m\u001b[0;34m\u001b[0m\u001b[0;34m\u001b[0m\u001b[0m\n\u001b[1;32m      5\u001b[0m \u001b[0mtrain_x_tfdif_3grams\u001b[0m \u001b[0;34m=\u001b[0m \u001b[0mtfdif_vectorization\u001b[0m\u001b[0;34m(\u001b[0m\u001b[0mfilterd_tweets\u001b[0m\u001b[0;34m,\u001b[0m \u001b[0mrange\u001b[0m\u001b[0;34m=\u001b[0m\u001b[0;34m(\u001b[0m\u001b[0;36m2\u001b[0m\u001b[0;34m,\u001b[0m \u001b[0;36m3\u001b[0m\u001b[0;34m)\u001b[0m\u001b[0;34m)\u001b[0m\u001b[0;34m\u001b[0m\u001b[0;34m\u001b[0m\u001b[0m\n\u001b[0;32m----> 6\u001b[0;31m \u001b[0mtrain_x_cv_1grams\u001b[0m    \u001b[0;34m=\u001b[0m \u001b[0mcv_Vectorization\u001b[0m\u001b[0;34m(\u001b[0m\u001b[0mfilterd_tweets\u001b[0m\u001b[0;34m,\u001b[0m \u001b[0mrange\u001b[0m\u001b[0;34m=\u001b[0m\u001b[0;34m(\u001b[0m\u001b[0;36m1\u001b[0m\u001b[0;34m,\u001b[0m \u001b[0;36m2\u001b[0m\u001b[0;34m)\u001b[0m\u001b[0;34m)\u001b[0m\u001b[0;34m\u001b[0m\u001b[0;34m\u001b[0m\u001b[0m\n\u001b[0m\u001b[1;32m      7\u001b[0m \u001b[0mtrain_x_cv_2grams\u001b[0m    \u001b[0;34m=\u001b[0m \u001b[0mcv_Vectorization\u001b[0m\u001b[0;34m(\u001b[0m\u001b[0mfilterd_tweets\u001b[0m\u001b[0;34m,\u001b[0m \u001b[0mrange\u001b[0m\u001b[0;34m=\u001b[0m\u001b[0;34m(\u001b[0m\u001b[0;36m2\u001b[0m\u001b[0;34m,\u001b[0m \u001b[0;36m3\u001b[0m\u001b[0;34m)\u001b[0m\u001b[0;34m)\u001b[0m\u001b[0;34m\u001b[0m\u001b[0;34m\u001b[0m\u001b[0m\n\u001b[1;32m      8\u001b[0m \u001b[0mtrain_x_cv_3grams\u001b[0m    \u001b[0;34m=\u001b[0m \u001b[0mcv_Vectorization\u001b[0m\u001b[0;34m(\u001b[0m\u001b[0mfilterd_tweets\u001b[0m\u001b[0;34m,\u001b[0m \u001b[0mrange\u001b[0m\u001b[0;34m=\u001b[0m\u001b[0;34m(\u001b[0m\u001b[0;36m1\u001b[0m\u001b[0;34m,\u001b[0m \u001b[0;36m3\u001b[0m\u001b[0;34m)\u001b[0m\u001b[0;34m)\u001b[0m\u001b[0;34m\u001b[0m\u001b[0;34m\u001b[0m\u001b[0m\n",
            "\u001b[0;32m<ipython-input-23-63fd20f75663>\u001b[0m in \u001b[0;36mcv_Vectorization\u001b[0;34m(data, range)\u001b[0m\n\u001b[1;32m      5\u001b[0m \u001b[0;34m\u001b[0m\u001b[0m\n\u001b[1;32m      6\u001b[0m \u001b[0;34m\u001b[0m\u001b[0m\n\u001b[0;32m----> 7\u001b[0;31m     \u001b[0;32mreturn\u001b[0m \u001b[0mcv\u001b[0m\u001b[0;34m,\u001b[0m \u001b[0mcv_valid\u001b[0m\u001b[0;34m\u001b[0m\u001b[0;34m\u001b[0m\u001b[0m\n\u001b[0m\u001b[1;32m      8\u001b[0m \u001b[0;34m\u001b[0m\u001b[0m\n\u001b[1;32m      9\u001b[0m \u001b[0;31m# TF_IDF vectorizer based on 2-grams words\u001b[0m\u001b[0;34m\u001b[0m\u001b[0;34m\u001b[0m\u001b[0;34m\u001b[0m\u001b[0m\n",
            "\u001b[0;31mNameError\u001b[0m: name 'cv_valid' is not defined"
          ]
        }
      ]
    },
    {
      "metadata": {
        "id": "1yM-t7UeJc72",
        "colab_type": "text"
      },
      "cell_type": "markdown",
      "source": [
        "#### Building classfiers "
      ]
    },
    {
      "metadata": {
        "id": "2FGqcL05JePW",
        "colab_type": "code",
        "colab": {}
      },
      "cell_type": "code",
      "source": [
        "## Classifiers\n",
        "clf_lr = linear_model.LogisticRegression(penalty='l1', C=0.3, max_iter=15000, solver='liblinear')\n",
        "clf_nb = naive_bayes.MultinomialNB(alpha = 0.001,fit_prior=False)\n",
        "clf_sgdc = linear_model.SGDClassifier(penalty='l1',  random_state=42, loss='log', l1_ratio=0.1,alpha=0.0001, learning_rate='adaptive', tol=None, max_iter=3000, n_jobs=-1, eta0=0.001)\n",
        "clf_svc = svm.LinearSVC(penalty='l1', C=0.2, max_iter=10000, random_state=45, loss='squared_hinge', dual=False)\n",
        "clf_rf = RandomForestClassifier(n_estimators=20, max_features=8000,random_state =46 )\n",
        "clf_knn = KNeighborsClassifier(n_neighbors=7)\n",
        "eclf1 = EnsembleVoteClassifier(clfs=[clf_lr, clf_sgdc, clf_svc], voting='hard', verbose=1)"
      ],
      "execution_count": 0,
      "outputs": []
    },
    {
      "metadata": {
        "id": "tC9588gnJyWC",
        "colab_type": "text"
      },
      "cell_type": "markdown",
      "source": [
        "### Grid search scripts for hyperParameters tuning "
      ]
    },
    {
      "metadata": {
        "id": "8y4zcOAXKAng",
        "colab_type": "text"
      },
      "cell_type": "markdown",
      "source": [
        "##### for random forest"
      ]
    },
    {
      "metadata": {
        "id": "lBcB8RLSJgNd",
        "colab_type": "code",
        "colab": {
          "base_uri": "https://localhost:8080/",
          "height": 54
        },
        "outputId": "9afc0506-e34d-4185-a5df-75197bb28e6f"
      },
      "cell_type": "code",
      "source": [
        "# Number of trees in random forest\n",
        "n_estimators = [int(x) for x in np.linspace(start = 200, stop = 2000, num = 10)]\n",
        "# Number of features to consider at every split\n",
        "max_features = ['auto', 'sqrt']\n",
        "# Maximum number of levels in tree\n",
        "max_depth = [int(x) for x in np.linspace(10, 110, num = 11)]\n",
        "max_depth.append(None)\n",
        "# Minimum number of samples required to split a node\n",
        "min_samples_split = [2, 5, 10]\n",
        "# Minimum number of samples required at each leaf node\n",
        "min_samples_leaf = [1, 2, 4]\n",
        "# Method of selecting samples for training each tree\n",
        "bootstrap = [True, False]\n",
        "# Create the random grid\n",
        "random_grid = {'n_estimators': n_estimators,\n",
        "               'max_features': max_features,\n",
        "               'max_depth': max_depth,\n",
        "               'min_samples_split': min_samples_split,\n",
        "               'min_samples_leaf': min_samples_leaf,\n",
        "               'bootstrap': bootstrap}\n",
        "print(random_grid)\n"
      ],
      "execution_count": 29,
      "outputs": [
        {
          "output_type": "stream",
          "text": [
            "{'n_estimators': [200, 400, 600, 800, 1000, 1200, 1400, 1600, 1800, 2000], 'max_features': ['auto', 'sqrt'], 'max_depth': [10, 20, 30, 40, 50, 60, 70, 80, 90, 100, 110, None], 'min_samples_split': [2, 5, 10], 'min_samples_leaf': [1, 2, 4], 'bootstrap': [True, False]}\n"
          ],
          "name": "stdout"
        }
      ]
    },
    {
      "metadata": {
        "id": "5PSQ7ulYKIf8",
        "colab_type": "text"
      },
      "cell_type": "markdown",
      "source": [
        "#### STGD and Linear SVC"
      ]
    },
    {
      "metadata": {
        "id": "gRk7O4hmKC0V",
        "colab_type": "code",
        "colab": {}
      },
      "cell_type": "code",
      "source": [
        "## STOCHASTIC GRADIENT DESCENT TUNING\n",
        "alpha = [1,0.1,0.001,0.0001]\n",
        "l1_ratio = [0.1,0.3,0.5]\n",
        "# Grid search is done and Best  Best parameters for  are :  {'(penalty='l1',  random_state=42,loss ='log',l1_ratio=0.1,alpha=0.0001}\n",
        "\n",
        "\n",
        "## SVC Parameters Tuning\n",
        "Cs = [0.1,0.2,0.3,0.1,0.5]\n",
        "\n",
        "param_grid = {'clf__C': Cs}\n",
        "# Grid search is done and Best  Best parameters for  are :  {'clf__C': 10}"
      ],
      "execution_count": 0,
      "outputs": []
    },
    {
      "metadata": {
        "id": "_eE_BXQUKTmI",
        "colab_type": "code",
        "colab": {}
      },
      "cell_type": "code",
      "source": [
        "model_lr = RandomizedSearchCV(estimator=pip, param_distributions=param_grid, n_iter=20, cv=5, verbose=2, random_state=42, n_jobs=-1)\n",
        "model_lr.fit(train_x.astype('U'), train_y)\n"
      ],
      "execution_count": 0,
      "outputs": []
    },
    {
      "metadata": {
        "id": "_55M_zFbKb7B",
        "colab_type": "text"
      },
      "cell_type": "markdown",
      "source": [
        "#### K-NN"
      ]
    },
    {
      "metadata": {
        "id": "5Fnyl7WWKYVN",
        "colab_type": "code",
        "colab": {}
      },
      "cell_type": "code",
      "source": [
        "## Getting the Best K for KNN classifier\n",
        "score = {}\n",
        "score_list = []\n",
        "ranke_k = (1, 25)\n",
        "for i in ranke_k:\n",
        "    clf_knn = KNeighborsClassifier(n_neighbors=i)\n",
        "    pip = Pipeline([('vec', CountVectorizer(max_features=15000, max_df=0.4)), ('clf',  clf_knn)])\n",
        "    pip.fit(train_x.astype('U'), train_y)\n",
        "    prediction = pip.predict(valid_x.astype('U'))\n",
        "    score[i]=accuracy_score(valid_y,prediction)\n",
        "    score_list.append(accuracy_score(valid_y, prediction))\n",
        "    print('K== %d  accuracy = %0.2f' %(i,score[i]))\n",
        "\n",
        "plt.plot(ranke_k,score_list)\n",
        "plt.xlabel('Value of K')\n",
        "plt.ylabel('Value for Test accuracy')\n",
        "plt.show()\n"
      ],
      "execution_count": 0,
      "outputs": []
    },
    {
      "metadata": {
        "id": "ihEGRhkJKej5",
        "colab_type": "text"
      },
      "cell_type": "markdown",
      "source": [
        "## Training our models \n",
        "\n"
      ]
    },
    {
      "metadata": {
        "id": "QCFzfQQOK6wI",
        "colab_type": "text"
      },
      "cell_type": "markdown",
      "source": [
        "#### Building the pipeline"
      ]
    },
    {
      "metadata": {
        "id": "_6lEZ_HQKiGT",
        "colab_type": "code",
        "colab": {}
      },
      "cell_type": "code",
      "source": [
        "pip = Pipeline([('vec', CountVectorizer(max_features=8000,  max_df=0.4, analyzer='word')), ('clf',  clf_lr)])\n"
      ],
      "execution_count": 0,
      "outputs": []
    },
    {
      "metadata": {
        "id": "IvHNxRluK-Tn",
        "colab_type": "text"
      },
      "cell_type": "markdown",
      "source": [
        "#### training and fitting"
      ]
    },
    {
      "metadata": {
        "id": "mHhYtMWULKjH",
        "colab_type": "code",
        "colab": {
          "base_uri": "https://localhost:8080/",
          "height": 1530
        },
        "outputId": "b31f1a74-6e02-477c-ecec-dff191c31260"
      },
      "cell_type": "code",
      "source": [
        "pip.fit(train_x.astype('U'), train_y)\n",
        "training_pridiction = pip.predict(train_y.astype('U'))\n",
        "training_Accurecy = accuracy_score(train_y,training_pridiction)\n",
        "print('training: ',training_Accurecy)\n",
        "print(classification_report(train_y, training_pridiction))\n",
        "prediction = pip.predict(valid_x.astype('U'))\n",
        "accuracy = np.mean(prediction==valid_y)\n",
        "report = classification_report(valid_y , prediction)\n",
        "cm = confusion_matrix(valid_y, prediction)\n",
        "\n",
        "## Plotting the Confusion Matrix\n",
        "plt.clf()\n",
        "plt.imshow(cm, interpolation='nearest', cmap=plt.cm.Wistia)\n",
        "classNames = ['Negative', 'Positive']\n",
        "plt.title('Confusion Matrix - Logistic Regression')\n",
        "plt.ylabel('True label')\n",
        "plt.xlabel('Predicted label')\n",
        "tick_marks = np.arange(len(classNames))\n",
        "plt.xticks(tick_marks, classNames, rotation=45)\n",
        "plt.yticks(tick_marks, classNames)\n",
        "s = [['TN', 'FP'], ['FN', 'TP']]\n",
        "for i in range(2):\n",
        "    for j in range(2):\n",
        "        plt.text(j, i, str(s[i][j])+\" = \"+str(cm[i][j]))\n",
        "plt.show()\n",
        "\n",
        "print(report)\n",
        "print(confusion_matrix)\n",
        "print(accuracy_score(valid_y,prediction))\n",
        "fpr, tpr, thresholds = roc_curve(np.array(valid_y),np.array(prediction))\n",
        "\n",
        "# create plot for ROC Curve\n",
        "plt.plot(fpr, tpr, label='ROC curve Logistic Regression')\n",
        "plt.plot([0, 1], [0, 1], 'k--', label='Random guess')\n",
        "plt.xlabel('False Positive Rate')\n",
        "plt.ylabel('True Positive Rate')\n",
        "plt.title('ROC Curve')\n",
        "plt.xlim([-0.02, 1])\n",
        "plt.ylim([0, 1.02])\n",
        "plt.legend(loc=\"lower right\")\n",
        "plt.show()\n",
        "\n",
        "precision, recall, thresholds = precision_recall_curve(valid_y, prediction)\n",
        "# create plot\n",
        "plt.plot(precision, recall, label='Precision-recall curve Final Model')\n",
        "plt.xlabel('Precision')\n",
        "plt.ylabel('Recall')\n",
        "plt.title('Precision-recall curve')\n",
        "plt.legend(loc=\"lower left\")\n",
        "plt.show()\n",
        "\n"
      ],
      "execution_count": 32,
      "outputs": [
        {
          "output_type": "stream",
          "text": [
            "training:  0.3219754529514904\n",
            "              precision    recall  f1-score   support\n",
            "\n",
            "           0       0.32      1.00      0.49     11018\n",
            "           1       0.00      0.00      0.00     23202\n",
            "\n",
            "   micro avg       0.32      0.32      0.32     34220\n",
            "   macro avg       0.16      0.50      0.24     34220\n",
            "weighted avg       0.10      0.32      0.16     34220\n",
            "\n"
          ],
          "name": "stdout"
        },
        {
          "output_type": "stream",
          "text": [
            "/usr/local/lib/python3.6/dist-packages/sklearn/metrics/classification.py:1143: UndefinedMetricWarning: Precision and F-score are ill-defined and being set to 0.0 in labels with no predicted samples.\n",
            "  'precision', 'predicted', average, warn_for)\n"
          ],
          "name": "stderr"
        },
        {
          "output_type": "display_data",
          "data": {
            "image/png": "[encoded data removed]",
            "text/plain": [
              "<Figure size 576x396 with 1 Axes>"
            ]
          },
          "metadata": {
            "tags": []
          }
        },
        {
          "output_type": "stream",
          "text": [
            "              precision    recall  f1-score   support\n",
            "\n",
            "           0       0.76      0.92      0.83      1297\n",
            "           1       0.95      0.85      0.90      2506\n",
            "\n",
            "   micro avg       0.87      0.87      0.87      3803\n",
            "   macro avg       0.86      0.88      0.87      3803\n",
            "weighted avg       0.89      0.87      0.88      3803\n",
            "\n",
            "<function confusion_matrix at 0x7f674369a268>\n",
            "0.8735209045490402\n"
          ],
          "name": "stdout"
        },
        {
          "output_type": "display_data",
          "data": {
            "image/png": "[encoded data removed]",
            "text/plain": [
              "<Figure size 576x396 with 1 Axes>"
            ]
          },
          "metadata": {
            "tags": []
          }
        },
        {
          "output_type": "display_data",
          "data": {
            "image/png": "[encoded data removed]",
            "text/plain": [
              "<Figure size 576x396 with 1 Axes>"
            ]
          },
          "metadata": {
            "tags": []
          }
        }
      ]
    },
    {
      "metadata": {
        "id": "U_u5xKxdLfpe",
        "colab_type": "text"
      },
      "cell_type": "markdown",
      "source": [
        "#### Training and fitting the Model using pre-built feature vectors (Bad Results)"
      ]
    },
    {
      "metadata": {
        "id": "rAd9UGTuLfb8",
        "colab_type": "code",
        "colab": {
          "base_uri": "https://localhost:8080/",
          "height": 231
        },
        "outputId": "39835f8c-db37-44b0-c9a5-6d1fe72173ce"
      },
      "cell_type": "code",
      "source": [
        "accuracy = train_model(eclf1, train_x_tfdif_2grams, train_y, valid_x_tfdif_2grams, valid_y)\n",
        "print(\"ECLF : \",accuracy)\n",
        "\n",
        "# Train the Model and validate (return accurecy of the Model)\n",
        "\n",
        "score = cross_val_score(clf_lr, train_x_tfdif_2grams, train_y, cv=5,scoring=\"roc_auc\")\n",
        "print('HEeeey LR: Score: ', score.mean())\n",
        "accuracy = train_model(clf_nb, train_x_tfdif_1grams,train_y, valid_x_tfdif_1grams, valid_y)\n",
        "print('Naive Bayes : ' ,accuracy)\n",
        "\n",
        "\n",
        "accuracy = train_model(clf_lr, train_x_tfdif_1grams,train_y, valid_x_tfdif_1grams, valid_y)\n",
        "print('Logistic Regression: ',accuracy)\n",
        "\n",
        "accuracy = train_model(clf_rf, train_x_tfdif_2grams,\n",
        "                       train_y, valid_x_tfdif_2grams, valid_y)\n",
        "print('Random Forests: ', accuracy)\n",
        "\n",
        "accuracy = train_model(clf_sgdc, train_x_tfdif_2grams, train_y, valid_x_tfdif_2grams, valid_y)\n",
        "print('SGDC(2): ', accuracy)\n",
        "\n",
        "\n",
        "accuracy = train_model(clf_svc, train_x_tfdif_2grams, train_y, valid_x_tfdif_2grams, valid_y)\n",
        "print('SVC: ', accuracy)\n"
      ],
      "execution_count": 33,
      "outputs": [
        {
          "output_type": "error",
          "ename": "NameError",
          "evalue": "ignored",
          "traceback": [
            "\u001b[0;31m---------------------------------------------------------------------------\u001b[0m",
            "\u001b[0;31mNameError\u001b[0m                                 Traceback (most recent call last)",
            "\u001b[0;32m<ipython-input-33-129e02732b61>\u001b[0m in \u001b[0;36m<module>\u001b[0;34m()\u001b[0m\n\u001b[0;32m----> 1\u001b[0;31m \u001b[0maccuracy\u001b[0m \u001b[0;34m=\u001b[0m \u001b[0mtrain_model\u001b[0m\u001b[0;34m(\u001b[0m\u001b[0meclf1\u001b[0m\u001b[0;34m,\u001b[0m \u001b[0mtrain_x_tfdif_2grams\u001b[0m\u001b[0;34m,\u001b[0m \u001b[0mtrain_y\u001b[0m\u001b[0;34m,\u001b[0m \u001b[0mvalid_x_tfdif_2grams\u001b[0m\u001b[0;34m,\u001b[0m \u001b[0mvalid_y\u001b[0m\u001b[0;34m)\u001b[0m\u001b[0;34m\u001b[0m\u001b[0;34m\u001b[0m\u001b[0m\n\u001b[0m\u001b[1;32m      2\u001b[0m \u001b[0mprint\u001b[0m\u001b[0;34m(\u001b[0m\u001b[0;34m\"ECLF : \"\u001b[0m\u001b[0;34m,\u001b[0m\u001b[0maccuracy\u001b[0m\u001b[0;34m)\u001b[0m\u001b[0;34m\u001b[0m\u001b[0;34m\u001b[0m\u001b[0m\n\u001b[1;32m      3\u001b[0m \u001b[0;34m\u001b[0m\u001b[0m\n\u001b[1;32m      4\u001b[0m \u001b[0;31m# Train the Model and validate (return accurecy of the Model)\u001b[0m\u001b[0;34m\u001b[0m\u001b[0;34m\u001b[0m\u001b[0;34m\u001b[0m\u001b[0m\n\u001b[1;32m      5\u001b[0m \u001b[0;34m\u001b[0m\u001b[0m\n",
            "\u001b[0;31mNameError\u001b[0m: name 'train_x_tfdif_2grams' is not defined"
          ]
        }
      ]
    },
    {
      "metadata": {
        "id": "JkwGtIH0LNGe",
        "colab_type": "code",
        "colab": {}
      },
      "cell_type": "code",
      "source": [
        ""
      ],
      "execution_count": 0,
      "outputs": []
    }
  ]
}